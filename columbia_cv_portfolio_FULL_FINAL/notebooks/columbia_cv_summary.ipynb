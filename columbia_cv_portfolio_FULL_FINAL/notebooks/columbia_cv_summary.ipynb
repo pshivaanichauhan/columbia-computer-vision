{
  "cells": [
    {
      "cell_type": "markdown",
      "metadata": {},
      "source": [
        "# \ud83e\udde0 Columbia CV Summary\n",
        "\n",
        "Hi, I'm **Priya Shivaani Chauhan** \u2014 and this portfolio showcases hands-on work from the Columbia University _First Principles of Computer Vision_ course (Coursera+, May 2023).\n",
        "\n",
        "This course gave me a strong foundation in how images are formed, processed, and understood by computers. Each project here is built to reflect a concept or capability I learned:\n",
        "\n",
        "- Edge Detection with OpenCV\n",
        "- Experiments with generative 3D models (Zero123)\n",
        "- Shape completion using state-of-the-art research (Pix2Gestalt)\n",
        "\n",
        "---\n",
        "\n",
        "You're invited to explore, run, and build on top of them \u2728\n"
      ]
    }
  ],
  "metadata": {
    "kernelspec": {
      "display_name": "Python 3",
      "language": "python",
      "name": "python3"
    },
    "language_info": {
      "name": "python",
      "version": "3.8"
    }
  },
  "nbformat": 4,
  "nbformat_minor": 2
}