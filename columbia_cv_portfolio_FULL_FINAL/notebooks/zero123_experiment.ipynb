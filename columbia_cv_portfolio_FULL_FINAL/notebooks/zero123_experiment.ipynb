{
  "cells": [
    {
      "cell_type": "markdown",
      "metadata": {},
      "source": [
        "# \ud83e\udde0 Columbia CVLab \u2013 Zero123 Experiment\n\n",
        "`zero123` is a zero-shot 3D object generation model from a **single 2D image**. This experiment notebook outlines the steps to run the official model released by [Columbia CVLab](https://github.com/cvlab-columbia/zero123).\n\n",
        "## \ud83d\udcd8 Paper\n",
        "**Title:** [Zero-1-to-3: Zero-shot One Image to 3D Object](https://arxiv.org/abs/2302.03027)  \n",
        "**Conference:** ICCV 2023"
      ]
    },
    {
      "cell_type": "markdown",
      "metadata": {},
      "source": [
        "## \ud83d\udee0\ufe0f Setup Instructions\n",
        "1. Clone the official GitHub repo\n",
        "2. Install dependencies\n",
        "3. Run inference using your own image"
      ]
    },
    {
      "cell_type": "code",
      "execution_count": null,
      "metadata": {},
      "outputs": [],
      "source": [
        "# Clone the repo\n",
        "!git clone https://github.com/cvlab-columbia/zero123.git"
      ]
    },
    {
      "cell_type": "code",
      "execution_count": null,
      "metadata": {},
      "outputs": [],
      "source": [
        "# Install requirements (adjust based on README)\n",
        "# !pip install -r zero123/requirements.txt"
      ]
    },
    {
      "cell_type": "markdown",
      "metadata": {},
      "source": [
        "## \ud83d\uddbc\ufe0f Input Example & Inference"
      ]
    },
    {
      "cell_type": "code",
      "execution_count": null,
      "metadata": {},
      "outputs": [],
      "source": [
        "# !python zero123/demo.py --input input.jpg --output result.obj"
      ]
    },
    {
      "cell_type": "markdown",
      "metadata": {},
      "source": [
        "## \ud83d\udcca Result & Reflection\n",
        "- Does the 3D object make sense?\n",
        "- What are the visible artifacts?\n",
        "- Next steps?"
      ]
    }
  ],
  "metadata": {
    "kernelspec": {
      "display_name": "Python 3",
      "language": "python",
      "name": "python3"
    },
    "language_info": {
      "name": "python",
      "version": "3.8"
    }
  },
  "nbformat": 4,
  "nbformat_minor": 2
}