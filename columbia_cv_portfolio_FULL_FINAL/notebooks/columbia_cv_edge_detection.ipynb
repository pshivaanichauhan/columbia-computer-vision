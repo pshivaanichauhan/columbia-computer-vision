{
  "cells": [
    {
      "cell_type": "markdown",
      "metadata": {},
      "source": [
        "# \ud83d\udd0d Edge Detection with OpenCV\n",
        "\n",
        "This notebook demonstrates classical edge detection techniques using OpenCV, including:\n",
        "\n",
        "- Sobel Filters\n",
        "- Laplacian Operator\n",
        "- Canny Edge Detection\n",
        "\n",
        "These methods help identify contours, gradients, and shapes in images \u2014 foundational to computer vision."
      ]
    },
    {
      "cell_type": "code",
      "execution_count": null,
      "metadata": {},
      "outputs": [],
      "source": [
        "# \ud83d\udce6 Install & Import\n",
        "!pip install opencv-python --quiet\n",
        "import cv2\n",
        "import numpy as np\n",
        "import matplotlib.pyplot as plt\n",
        "\n",
        "def show(img, cmap='gray'):\n",
        "    plt.axis('off')\n",
        "    plt.imshow(img, cmap=cmap)\n",
        "    plt.show()"
      ]
    },
    {
      "cell_type": "code",
      "execution_count": null,
      "metadata": {},
      "outputs": [],
      "source": [
        "# \ud83d\udcf7 Load Sample Image\n",
        "url = 'https://upload.wikimedia.org/wikipedia/commons/thumb/2/24/Lenna.png/512px-Lenna.png'\n",
        "import urllib.request\n",
        "resp = urllib.request.urlopen(url)\n",
        "image = np.asarray(bytearray(resp.read()), dtype=\"uint8\")\n",
        "img = cv2.imdecode(image, cv2.IMREAD_GRAYSCALE)\n",
        "show(img)"
      ]
    },
    {
      "cell_type": "markdown",
      "metadata": {},
      "source": [
        "## \ud83e\uddee Sobel Filter\n",
        "Detects gradients in the X and Y direction."
      ]
    },
    {
      "cell_type": "code",
      "execution_count": null,
      "metadata": {},
      "outputs": [],
      "source": [
        "sobelx = cv2.Sobel(img, cv2.CV_64F, 1, 0, ksize=5)\n",
        "sobely = cv2.Sobel(img, cv2.CV_64F, 0, 1, ksize=5)\n",
        "show(sobelx)\n",
        "show(sobely)"
      ]
    },
    {
      "cell_type": "markdown",
      "metadata": {},
      "source": [
        "## \u2206 Laplacian Filter\n",
        "Captures edges in all directions using second derivatives."
      ]
    },
    {
      "cell_type": "code",
      "execution_count": null,
      "metadata": {},
      "outputs": [],
      "source": [
        "laplacian = cv2.Laplacian(img, cv2.CV_64F)\n",
        "show(laplacian)"
      ]
    },
    {
      "cell_type": "markdown",
      "metadata": {},
      "source": [
        "## \u26a1 Canny Edge Detection\n",
        "A multi-stage algorithm popular in many real-world applications."
      ]
    },
    {
      "cell_type": "code",
      "execution_count": null,
      "metadata": {},
      "outputs": [],
      "source": [
        "edges = cv2.Canny(img, 100, 200)\n",
        "show(edges)"
      ]
    }
  ],
  "metadata": {
    "kernelspec": {
      "display_name": "Python 3",
      "language": "python",
      "name": "python3"
    },
    "language_info": {
      "name": "python",
      "version": "3.8"
    }
  },
  "nbformat": 4,
  "nbformat_minor": 2
}