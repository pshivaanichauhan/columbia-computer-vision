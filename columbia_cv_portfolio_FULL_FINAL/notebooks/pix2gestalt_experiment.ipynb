{
  "cells": [
    {
      "cell_type": "markdown",
      "metadata": {},
      "source": [
        "# \ud83e\udde0 Columbia CVLab \u2013 Pix2Gestalt Experiment\n\n",
        "`pix2gestalt` is a model for **amodal segmentation** \u2014 predicting the full shape of partially hidden objects.\n\n",
        "## \ud83d\udcd8 Paper\n",
        "**Title:** [Pix2Gestalt: Learning Amodal Object Completion via Whole Synthesis](https://arxiv.org/abs/2403.17444)  \n",
        "**Conference:** CVPR 2024"
      ]
    },
    {
      "cell_type": "markdown",
      "metadata": {},
      "source": [
        "## \ud83d\udee0\ufe0f Setup Instructions\n",
        "1. Clone the official GitHub repo\n",
        "2. Install dependencies\n",
        "3. Run the model on your own image"
      ]
    },
    {
      "cell_type": "code",
      "execution_count": null,
      "metadata": {},
      "outputs": [],
      "source": [
        "# Clone the repo\n",
        "!git clone https://github.com/cvlab-columbia/pix2gestalt.git"
      ]
    },
    {
      "cell_type": "code",
      "execution_count": null,
      "metadata": {},
      "outputs": [],
      "source": [
        "# Install requirements (adjust based on repo)\n",
        "# !pip install -r pix2gestalt/requirements.txt"
      ]
    },
    {
      "cell_type": "markdown",
      "metadata": {},
      "source": [
        "## \ud83d\uddbc\ufe0f Run Inference & Visualize Output"
      ]
    },
    {
      "cell_type": "code",
      "execution_count": null,
      "metadata": {},
      "outputs": [],
      "source": [
        "# !python demo.py --input input.jpg --output mask.png"
      ]
    },
    {
      "cell_type": "markdown",
      "metadata": {},
      "source": [
        "## \ud83d\udcca Output & Insight\n",
        "- How accurate is the completed object?\n",
        "- Could this be useful for robotics, AR, or scene understanding?"
      ]
    }
  ],
  "metadata": {
    "kernelspec": {
      "display_name": "Python 3",
      "language": "python",
      "name": "python3"
    },
    "language_info": {
      "name": "python",
      "version": "3.8"
    }
  },
  "nbformat": 4,
  "nbformat_minor": 2
}